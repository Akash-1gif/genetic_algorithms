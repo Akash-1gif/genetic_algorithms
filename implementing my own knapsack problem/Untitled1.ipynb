{
 "cells": [
  {
   "cell_type": "code",
   "execution_count": 1,
   "id": "9c1e711a",
   "metadata": {},
   "outputs": [
    {
     "name": "stdout",
     "output_type": "stream",
     "text": [
      "Objects to carry:\n",
      "Object 7 (Weight: 5 kg, Profit: 120)\n",
      "Object 6 (Weight: 7 kg, Profit: 100)\n",
      "Object 3 (Weight: 12 kg, Profit: 250)\n",
      "Object 2 (Weight: 18 kg, Profit: 300)\n",
      "Object 1 (Weight: 6 kg, Profit: 100)\n",
      "Total Profit: 870\n"
     ]
    }
   ],
   "source": [
    "weights = [6, 18, 12, 14, 19, 7, 5]\n",
    "profits = [100, 300, 250, 140, 250, 100, 120]\n",
    "max_weight = 50\n",
    "num_items = len(weights)\n",
    "\n",
    "# Initialize the table with zeros\n",
    "dp = [[0 for _ in range(max_weight + 1)] for _ in range(num_items + 1)]\n",
    "\n",
    "# Fill the table using dynamic programming\n",
    "for i in range(1, num_items + 1):\n",
    "    for w in range(1, max_weight + 1):\n",
    "        if weights[i - 1] <= w:\n",
    "            dp[i][w] = max(dp[i - 1][w], dp[i - 1][w - weights[i - 1]] + profits[i - 1])\n",
    "        else:\n",
    "            dp[i][w] = dp[i - 1][w]\n",
    "\n",
    "# Find the objects to carry\n",
    "selected_objects = []\n",
    "i, w = num_items, max_weight\n",
    "while i > 0 and w > 0:\n",
    "    if dp[i][w] != dp[i - 1][w]:\n",
    "        selected_objects.append(i - 1)\n",
    "        w -= weights[i - 1]\n",
    "    i -= 1\n",
    "\n",
    "# The selected_objects list contains the indices of the objects to carry\n",
    "selected_weights = [weights[i] for i in selected_objects]\n",
    "selected_profits = [profits[i] for i in selected_objects]\n",
    "\n",
    "print(\"Objects to carry:\")\n",
    "for i in range(len(selected_objects)):\n",
    "    print(f\"Object {selected_objects[i] + 1} (Weight: {selected_weights[i]} kg, Profit: {selected_profits[i]})\")\n",
    "\n",
    "print(f\"Total Profit: {dp[num_items][max_weight]}\")\n"
   ]
  }
 ],
 "metadata": {
  "kernelspec": {
   "display_name": "Python 3 (ipykernel)",
   "language": "python",
   "name": "python3"
  },
  "language_info": {
   "codemirror_mode": {
    "name": "ipython",
    "version": 3
   },
   "file_extension": ".py",
   "mimetype": "text/x-python",
   "name": "python",
   "nbconvert_exporter": "python",
   "pygments_lexer": "ipython3",
   "version": "3.9.12"
  }
 },
 "nbformat": 4,
 "nbformat_minor": 5
}
